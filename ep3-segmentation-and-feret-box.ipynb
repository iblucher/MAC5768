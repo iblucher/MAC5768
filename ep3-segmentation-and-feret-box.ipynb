{
 "cells": [
  {
   "cell_type": "markdown",
   "metadata": {},
   "source": [
    "# Segmentação das imagens EP3.1 "
   ]
  },
  {
   "cell_type": "code",
   "execution_count": 1,
   "metadata": {},
   "outputs": [],
   "source": [
    "import os\n",
    "from collections import defaultdict\n",
    "from pathlib import Path\n",
    "\n",
    "from dataclasses import dataclass\n",
    "\n",
    "import matplotlib.pyplot as plt\n",
    "\n",
    "import numpy as np\n",
    "\n",
    "import pandas as pd\n",
    "\n",
    "from skimage import exposure, img_as_ubyte, img_as_bool, io \n",
    "from skimage.filters import threshold_otsu, try_all_threshold\n",
    "from skimage.measure import label, regionprops\n",
    "from skimage.transform import resize"
   ]
  },
  {
   "cell_type": "code",
   "execution_count": 2,
   "metadata": {},
   "outputs": [],
   "source": [
    "EXAMPLE_IMAGE_PATH = Path('ground_truth') / 'brush' / 'gt_IMG_1431.JPG'\n",
    "\n",
    "example_img = io.imread(EXAMPLE_IMAGE_PATH)"
   ]
  },
  {
   "cell_type": "code",
   "execution_count": 3,
   "metadata": {},
   "outputs": [
    {
     "data": {
      "image/png": "[encoded data removed]",
      "text/plain": [
       "<Figure size 864x576 with 1 Axes>"
      ]
     },
     "metadata": {
      "needs_background": "light"
     },
     "output_type": "display_data"
    }
   ],
   "source": [
    "fig = plt.figure(figsize=(12, 8))\n",
    "ax = fig.add_subplot(111)\n",
    "\n",
    "ax.imshow(example_img, cmap='gray');"
   ]
  },
  {
   "cell_type": "markdown",
   "metadata": {},
   "source": [
    "## Thresholding \n",
    "\n",
    "ADD DESCRIPTION AND PLOTS"
   ]
  },
  {
   "cell_type": "code",
   "execution_count": 4,
   "metadata": {},
   "outputs": [],
   "source": [
    "def threshold_segmentation(img):\n",
    "    thresh = threshold_otsu(img)\n",
    "    binary = img > thresh\n",
    "    \n",
    "    return binary"
   ]
  },
  {
   "cell_type": "code",
   "execution_count": 5,
   "metadata": {},
   "outputs": [],
   "source": [
    "ORIGINAL_GRAY_DATASET_PATH = Path('original_gray_dataset/')\n",
    "SEGMENTED_DATASET_PATH = Path('segmented_dataset')\n",
    "\n",
    "for filename in ORIGINAL_GRAY_DATASET_PATH.rglob('*'):\n",
    "    if filename.is_file():\n",
    "        head, tail = os.path.split(filename)\n",
    "        object_class = head.split('/')[-1]\n",
    "        segmented_path = f'{SEGMENTED_DATASET_PATH}/{object_class}'\n",
    "\n",
    "        os.makedirs(segmented_path, exist_ok=True)\n",
    "        \n",
    "        img = io.imread(filename)\n",
    "        segmented_img = threshold_segmentation(img)\n",
    "        uint8_segmented_img = img_as_ubyte(segmented_img)\n",
    "        io.imsave(f'{segmented_path}/{tail}', uint8_segmented_img)"
   ]
  },
  {
   "cell_type": "markdown",
   "metadata": {},
   "source": [
    "## Cortar imagem na Feret Box\n",
    "\n",
    "ADD DESCRIPTION AND PLOTS"
   ]
  },
  {
   "cell_type": "code",
   "execution_count": 6,
   "metadata": {},
   "outputs": [],
   "source": [
    "object_class_dimensions = defaultdict(list)\n",
    "def compute_bounding_box_img(img, object_class, manual_seg=False):\n",
    "    minr, maxr, minc, maxc = compute_bounding_box_dimensions(img)\n",
    "               \n",
    "    if manual_seg:    \n",
    "        object_class_dimensions[object_class].append([minr, maxr, minc, maxc])    \n",
    "        \n",
    "    if not manual_seg and maxr == 1280 and maxc == 720:\n",
    "        minr, maxr, minc, maxc = average_object_dims[object_class]\n",
    "    \n",
    "    box_img = img[minr:maxr, minc:maxc]\n",
    "\n",
    "    return ~box_img\n",
    "\n",
    "\n",
    "def compute_bounding_box_dimensions(img):\n",
    "    img = img < 255  # make image binary (False = white, True = black)\n",
    "    \n",
    "    label_image = label(img)\n",
    "    \n",
    "    area = 0\n",
    "    minr, minc, maxr, maxc = np.zeros(4)\n",
    "    \n",
    "    for region in regionprops(label_image):\n",
    "        if region.area >= 100:\n",
    "            new_minr, new_minc, new_maxr, new_maxc = region.bbox\n",
    "            new_area = (new_maxr - new_minr) * (new_maxc - new_minc)\n",
    "            if new_area > area:\n",
    "                area = new_area\n",
    "                minr, minc, maxr, maxc = new_minr, new_minc, new_maxr, new_maxc\n",
    "                \n",
    "    return minr, maxr, minc, maxc"
   ]
  },
  {
   "cell_type": "code",
   "execution_count": 7,
   "metadata": {},
   "outputs": [],
   "source": [
    "def flip_binary_img(img):\n",
    "    \"\"\"Have the object be black and the background be white.\"\"\"\n",
    "    img = img < 255\n",
    "    \n",
    "    r, c = img.shape\n",
    "    true_sum = img.sum()\n",
    "    \n",
    "    if true_sum / (r * c) > 0.5:\n",
    "        return ~img\n",
    "        \n",
    "    return img"
   ]
  },
  {
   "cell_type": "code",
   "execution_count": 8,
   "metadata": {},
   "outputs": [],
   "source": [
    "GROUND_TRUTH_DATASET_PATH = Path('ground_truth/')\n",
    "GROUND_TRUTH_FERET_BOX_DATASET_PATH = Path('ground_truth_feret_box/')\n",
    "\n",
    "for filename in GROUND_TRUTH_DATASET_PATH.rglob('*'):\n",
    "    if filename.is_file():\n",
    "        head, tail = os.path.split(filename)\n",
    "        object_class = head.split('/')[-1]\n",
    "        \n",
    "        box_path = f'{GROUND_TRUTH_FERET_BOX_DATASET_PATH}/{object_class}'\n",
    "\n",
    "        os.makedirs(box_path, exist_ok=True)\n",
    "        \n",
    "        img = io.imread(filename)\n",
    "        feret_box_img = compute_bounding_box_img(img, object_class, True)\n",
    "        feret_box_flipped = flip_binary_img(feret_box_img)\n",
    "        uint8_feret_box_img = img_as_ubyte(feret_box_flipped)\n",
    "        io.imsave(f'{box_path}/{tail}', uint8_feret_box_img)"
   ]
  },
  {
   "cell_type": "code",
   "execution_count": 9,
   "metadata": {},
   "outputs": [],
   "source": [
    "average_object_dims = {}\n",
    "\n",
    "for k, v in object_class_dimensions.items():\n",
    "    average_object_dims[k] = [int(np.mean(x)) for x in zip(*v)]"
   ]
  },
  {
   "cell_type": "code",
   "execution_count": 10,
   "metadata": {},
   "outputs": [],
   "source": [
    "SEGMENTED_DATASET_PATH = Path('segmented_dataset')\n",
    "SEGMENTED_FERET_BOX_DATASET_PATH = Path('segmented_feret_box/')\n",
    "\n",
    "for filename in SEGMENTED_DATASET_PATH.rglob('*'):\n",
    "    if filename.is_file():\n",
    "        head, tail = os.path.split(filename)\n",
    "        object_class = head.split('/')[-1]\n",
    "        box_path = f'{SEGMENTED_FERET_BOX_DATASET_PATH}/{object_class}'\n",
    "\n",
    "        os.makedirs(box_path, exist_ok=True)\n",
    "        \n",
    "        img = io.imread(filename)\n",
    "        feret_box_img = compute_bounding_box_img(img, object_class, False)\n",
    "        feret_box_flipped = flip_binary_img(feret_box_img)\n",
    "        uint8_feret_box_img = img_as_ubyte(feret_box_flipped)\n",
    "        io.imsave(f'{box_path}/{tail}', uint8_feret_box_img, check_contrast=False)"
   ]
  },
  {
   "cell_type": "markdown",
   "metadata": {},
   "source": [
    "## Performance da segmentação por threshold\n",
    "\n",
    "ADD DESCRIPTION AND PLOTS"
   ]
  },
  {
   "cell_type": "code",
   "execution_count": 2,
   "metadata": {},
   "outputs": [],
   "source": [
    "@dataclass\n",
    "class ImageStats:\n",
    "    true_positive: int\n",
    "    true_negative: int\n",
    "    false_positive: int\n",
    "    false_negative: int\n",
    "        \n",
    "    def accuracy(self) -> float:\n",
    "        acc = (self.true_positive + self.true_negative) / (self.true_positive + self.true_negative + self.false_positive + self.false_negative)\n",
    "        if np.isnan(acc):\n",
    "            return 0\n",
    "        return acc\n",
    "    \n",
    "    def precision(self) -> float:\n",
    "        precision =  self.true_positive / (self.true_positive + self.false_positive)\n",
    "        if np.isnan(precision):\n",
    "            return 0\n",
    "        return precision\n",
    "    \n",
    "    def recall(self) -> float:\n",
    "        recall = self.true_positive / (self.true_positive + self.false_negative)\n",
    "        if np.isnan(recall):\n",
    "            return 0\n",
    "        return recall\n",
    "\n",
    "\n",
    "    \n",
    "def img_performance_metrics(gt_img, seg_img_resize):\n",
    "    tp, tn, fp, fn = np.zeros(4)\n",
    "    for r in range(seg_img_resize.shape[0]):\n",
    "        for c in range(seg_img_resize.shape[1]):\n",
    "            gt_pixel = gt_img[r, c]\n",
    "            seg_pixel = seg_img_resize[r, c]\n",
    "\n",
    "            if gt_pixel == True and seg_pixel == True:\n",
    "                tp += 1\n",
    "\n",
    "            elif gt_pixel == False and seg_pixel == False:\n",
    "                tn += 1\n",
    "\n",
    "            elif gt_pixel == False and seg_pixel == True:\n",
    "                fp += 1\n",
    "\n",
    "            else:\n",
    "                fn += 1\n",
    "\n",
    "    img_stats = ImageStats(tp, tn, fp, fn)\n",
    "    \n",
    "    return img_stats"
   ]
  },
  {
   "cell_type": "code",
   "execution_count": 3,
   "metadata": {},
   "outputs": [],
   "source": [
    "SEGMENTED_FERET_BOX_DATASET_PATH = Path('segmented_feret_box/')\n",
    "GROUND_TRUTH_FERET_BOX_DATASET_PATH = Path('ground_truth_feret_box/')\n",
    "\n",
    "class_metrics = defaultdict(list)\n",
    "\n",
    "for filename in GROUND_TRUTH_FERET_BOX_DATASET_PATH.rglob('*'):\n",
    "    if filename.is_file():\n",
    "        head, tail = os.path.split(filename)\n",
    "        object_class = head.split('/')[-1]\n",
    "        gt_img = img_as_bool(io.imread(filename))\n",
    "        \n",
    "        segmented_head = head.replace('ground_truth_feret_box', 'segmented_feret_box')\n",
    "        segmented_tail = tail.split('gt_')[-1]\n",
    "        seg_img = io.imread(f'{segmented_head}/{segmented_tail}')\n",
    "        \n",
    "        seg_img_resize = img_as_bool(resize(seg_img, (gt_img.shape[0], gt_img.shape[1]), anti_aliasing=True, order=0))\n",
    "        \n",
    "        metrics = img_performance_metrics(gt_img, seg_img_resize)\n",
    "        \n",
    "        class_metrics[object_class].append(metrics)"
   ]
  },
  {
   "cell_type": "code",
   "execution_count": 4,
   "metadata": {},
   "outputs": [
    {
     "name": "stderr",
     "output_type": "stream",
     "text": [
      "/home/iblucher/.pyenv/versions/3.7.4/lib/python3.7/site-packages/ipykernel_launcher.py:15: RuntimeWarning: invalid value encountered in double_scalars\n",
      "  from ipykernel import kernelapp as app\n"
     ]
    }
   ],
   "source": [
    "final_report_metrics = defaultdict(list)\n",
    "\n",
    "for k, v in class_metrics.items():\n",
    "    \n",
    "    mean_acc = np.mean([img_stats.accuracy() for img_stats in v])\n",
    "    mean_precision = np.mean([img_stats.precision() for img_stats in v])\n",
    "    mean_recall = np.mean([img_stats.recall() for img_stats in v])\n",
    "    \n",
    "    final_report_metrics[k] = [mean_acc, mean_precision, mean_recall]"
   ]
  },
  {
   "cell_type": "code",
   "execution_count": 10,
   "metadata": {},
   "outputs": [],
   "source": [
    "df = pd.DataFrame.from_dict(final_report_metrics,orient='index')\n",
    "df = df.rename(columns={0: 'Accuracy', 1: 'Precision', 2: 'Recall'}).round(2)"
   ]
  },
  {
   "cell_type": "code",
   "execution_count": 11,
   "metadata": {},
   "outputs": [
    {
     "data": {
      "text/html": [
       "<div>\n",
       "<style scoped>\n",
       "    .dataframe tbody tr th:only-of-type {\n",
       "        vertical-align: middle;\n",
       "    }\n",
       "\n",
       "    .dataframe tbody tr th {\n",
       "        vertical-align: top;\n",
       "    }\n",
       "\n",
       "    .dataframe thead th {\n",
       "        text-align: right;\n",
       "    }\n",
       "</style>\n",
       "<table border=\"1\" class=\"dataframe\">\n",
       "  <thead>\n",
       "    <tr style=\"text-align: right;\">\n",
       "      <th></th>\n",
       "      <th>Accuracy</th>\n",
       "      <th>Precision</th>\n",
       "      <th>Recall</th>\n",
       "    </tr>\n",
       "  </thead>\n",
       "  <tbody>\n",
       "    <tr>\n",
       "      <th>earring</th>\n",
       "      <td>0.59</td>\n",
       "      <td>0.34</td>\n",
       "      <td>0.37</td>\n",
       "    </tr>\n",
       "    <tr>\n",
       "      <th>glasses</th>\n",
       "      <td>0.52</td>\n",
       "      <td>0.35</td>\n",
       "      <td>0.33</td>\n",
       "    </tr>\n",
       "    <tr>\n",
       "      <th>nail_polish</th>\n",
       "      <td>0.55</td>\n",
       "      <td>0.32</td>\n",
       "      <td>0.49</td>\n",
       "    </tr>\n",
       "    <tr>\n",
       "      <th>lipstick</th>\n",
       "      <td>0.69</td>\n",
       "      <td>0.42</td>\n",
       "      <td>0.42</td>\n",
       "    </tr>\n",
       "    <tr>\n",
       "      <th>hand_sanitizer</th>\n",
       "      <td>0.62</td>\n",
       "      <td>0.28</td>\n",
       "      <td>0.41</td>\n",
       "    </tr>\n",
       "    <tr>\n",
       "      <th>notebook</th>\n",
       "      <td>0.79</td>\n",
       "      <td>0.23</td>\n",
       "      <td>0.51</td>\n",
       "    </tr>\n",
       "    <tr>\n",
       "      <th>knife</th>\n",
       "      <td>0.59</td>\n",
       "      <td>0.39</td>\n",
       "      <td>0.38</td>\n",
       "    </tr>\n",
       "    <tr>\n",
       "      <th>pen</th>\n",
       "      <td>0.59</td>\n",
       "      <td>0.47</td>\n",
       "      <td>0.39</td>\n",
       "    </tr>\n",
       "    <tr>\n",
       "      <th>mug</th>\n",
       "      <td>0.65</td>\n",
       "      <td>0.40</td>\n",
       "      <td>0.54</td>\n",
       "    </tr>\n",
       "    <tr>\n",
       "      <th>brush</th>\n",
       "      <td>0.48</td>\n",
       "      <td>0.36</td>\n",
       "      <td>0.26</td>\n",
       "    </tr>\n",
       "  </tbody>\n",
       "</table>\n",
       "</div>"
      ],
      "text/plain": [
       "                Accuracy  Precision  Recall\n",
       "earring             0.59       0.34    0.37\n",
       "glasses             0.52       0.35    0.33\n",
       "nail_polish         0.55       0.32    0.49\n",
       "lipstick            0.69       0.42    0.42\n",
       "hand_sanitizer      0.62       0.28    0.41\n",
       "notebook            0.79       0.23    0.51\n",
       "knife               0.59       0.39    0.38\n",
       "pen                 0.59       0.47    0.39\n",
       "mug                 0.65       0.40    0.54\n",
       "brush               0.48       0.36    0.26"
      ]
     },
     "execution_count": 11,
     "metadata": {},
     "output_type": "execute_result"
    }
   ],
   "source": [
    "df"
   ]
  },
  {
   "cell_type": "code",
   "execution_count": 17,
   "metadata": {},
   "outputs": [
    {
     "data": {
      "text/html": [
       "<div>\n",
       "<style scoped>\n",
       "    .dataframe tbody tr th:only-of-type {\n",
       "        vertical-align: middle;\n",
       "    }\n",
       "\n",
       "    .dataframe tbody tr th {\n",
       "        vertical-align: top;\n",
       "    }\n",
       "\n",
       "    .dataframe thead th {\n",
       "        text-align: right;\n",
       "    }\n",
       "</style>\n",
       "<table border=\"1\" class=\"dataframe\">\n",
       "  <thead>\n",
       "    <tr style=\"text-align: right;\">\n",
       "      <th></th>\n",
       "      <th>Value</th>\n",
       "    </tr>\n",
       "  </thead>\n",
       "  <tbody>\n",
       "    <tr>\n",
       "      <th>Accuracy</th>\n",
       "      <td>0.607</td>\n",
       "    </tr>\n",
       "    <tr>\n",
       "      <th>Precision</th>\n",
       "      <td>0.356</td>\n",
       "    </tr>\n",
       "    <tr>\n",
       "      <th>Recall</th>\n",
       "      <td>0.410</td>\n",
       "    </tr>\n",
       "  </tbody>\n",
       "</table>\n",
       "</div>"
      ],
      "text/plain": [
       "           Value\n",
       "Accuracy   0.607\n",
       "Precision  0.356\n",
       "Recall     0.410"
      ]
     },
     "execution_count": 17,
     "metadata": {},
     "output_type": "execute_result"
    }
   ],
   "source": [
    "df.mean(axis='index').to_frame('Value')"
   ]
  }
 ],
 "metadata": {
  "kernelspec": {
   "display_name": "Python 3",
   "language": "python",
   "name": "python3"
  },
  "language_info": {
   "codemirror_mode": {
    "name": "ipython",
    "version": 3
   },
   "file_extension": ".py",
   "mimetype": "text/x-python",
   "name": "python",
   "nbconvert_exporter": "python",
   "pygments_lexer": "ipython3",
   "version": "3.7.4"
  }
 },
 "nbformat": 4,
 "nbformat_minor": 4
}
